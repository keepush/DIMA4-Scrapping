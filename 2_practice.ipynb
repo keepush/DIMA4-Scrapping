{
 "cells": [
  {
   "cell_type": "markdown",
   "id": "32ba4290-f62a-49e1-a99b-e874b57eb8d8",
   "metadata": {},
   "source": [
    "# [문제] 전화번호 추출하기\n",
    "다음의 전화번호 데이터에서 전화번호만 추출하는 정규표현식을 작성하세요."
   ]
  },
  {
   "cell_type": "code",
   "execution_count": 3,
   "id": "a5f4e1ce-5149-432f-a9a2-f044da053787",
   "metadata": {},
   "outputs": [
    {
     "name": "stdout",
     "output_type": "stream",
     "text": [
      "010-1234-5555\n",
      "02-555-3333\n"
     ]
    }
   ],
   "source": [
    "phone = ['홍길동:010-1234-5555', '우리집, 02-555-3333']\n",
    "\n",
    "import re\n",
    "\n",
    "pet = re.compile('\\d{2,3}[-]\\d{3,4}[-]\\d{4}')\n",
    "for p in phone:\n",
    "    m = pet.search(p)\n",
    "    print(m.group())"
   ]
  },
  {
   "cell_type": "markdown",
   "id": "5e5d0790-c8d0-410d-ac8c-92646b581d75",
   "metadata": {},
   "source": [
    "# [실습] 이메일 형식 검증"
   ]
  },
  {
   "cell_type": "code",
   "execution_count": null,
   "id": "d712acb4-62ca-4bbe-893c-f9f54871689f",
   "metadata": {},
   "outputs": [],
   "source": [
    "import re\n",
    "# hyunsoo.ji@google.co.kr\n",
    "def valid_email(email):\n",
    "    regex = '[a-zA-Z]+\\w*[.]?\\w+[@]\\w+[.]\\w+[.]?\\w{2,3}'\n",
    "    valid = re.search(regex, email)\n",
    "\n",
    "    if valid:\n",
    "        print('valid email')\n",
    "    else:\n",
    "        print('invalid email')"
   ]
  },
  {
   "cell_type": "markdown",
   "id": "cbb716ed-438c-4bd0-9c46-673d79250ea3",
   "metadata": {},
   "source": [
    "[실습] 한글 찾기 / 한글 제거"
   ]
  },
  {
   "cell_type": "code",
   "execution_count": 4,
   "id": "1eebde99-bf73-45a7-a2c2-0e734dd1134f",
   "metadata": {},
   "outputs": [
    {
     "name": "stdout",
     "output_type": "stream",
     "text": [
      "['한글이에요', '안녕하세요']\n"
     ]
    }
   ],
   "source": [
    "s = '한글이에요. good morning. 안녕하세요'\n",
    "\n",
    "m = re.findall('[ㄱ-힣]+', s)\n",
    "print(m)"
   ]
  },
  {
   "cell_type": "markdown",
   "id": "3cfa22e7-af66-4406-9c08-ca6d893cb1af",
   "metadata": {},
   "source": [
    "# [문제] 입력받은 주민번호의 유효성 검증하기\n",
    "- 키보드로 입력받은 주민번호의 유효성을 검증하여 그 결과를 출력한다.\n",
    "- 931231-1234567"
   ]
  },
  {
   "cell_type": "code",
   "execution_count": 5,
   "id": "f1c93614-7a85-445d-a082-a85d8fd04c75",
   "metadata": {},
   "outputs": [
    {
     "name": "stdin",
     "output_type": "stream",
     "text": [
      "주민번호 입력: 001227-4106313\n"
     ]
    },
    {
     "name": "stdout",
     "output_type": "stream",
     "text": [
      "유효한 주민번호 형식입니다.\n"
     ]
    }
   ],
   "source": [
    "jumin = input('주민번호 입력:')\n",
    "\n",
    "p = re.compile('\\d{2}(0[1-9]|1[0-2])(0[1-9]|1[0-9]|2[1-9]|3[0-1])[-][1-4]\\d{6}')\n",
    "m = p.search(jumin)\n",
    "\n",
    "if m:\n",
    "    print('유효한 주민번호 형식입니다.')\n",
    "else:\n",
    "    print('유효하지 않은 주민번호 형식입니다.')"
   ]
  },
  {
   "cell_type": "markdown",
   "id": "592de9bd-3338-41ca-9e7c-e15987ef9304",
   "metadata": {},
   "source": [
    "# [실습] 네이버 뉴스 페이지에서 언론사 목록 가져오기"
   ]
  },
  {
   "cell_type": "code",
   "execution_count": 5,
   "id": "15385383-5864-4aef-8e1d-f4a8aea54f82",
   "metadata": {},
   "outputs": [
    {
     "name": "stdout",
     "output_type": "stream",
     "text": [
      "['문화일보', '기자협회보', '월간산', '경기일보', 'YTN', 'MBN', '시사저널', '한국경제TV', '블로터', '한겨레21']\n"
     ]
    }
   ],
   "source": [
    "import requests\n",
    "from bs4 import BeautifulSoup\n",
    "\n",
    "res = requests.get('https://news.naver.com')\n",
    "soup = BeautifulSoup(res.text, 'lxml')\n",
    "news_list = soup.find_all('h4', {'class':'channel'})\n",
    "press_list = [ list(i.children)[0] for i in news_list  ]\n",
    "print(press_list[:10])"
   ]
  },
  {
   "cell_type": "markdown",
   "id": "72f3e138-11db-4b26-a2f6-51fa779e8ab0",
   "metadata": {},
   "source": [
    "# [실습] 네이버 뉴스 페이지에서 관심 있는 언론사 목록 가져오기"
   ]
  },
  {
   "cell_type": "code",
   "execution_count": 11,
   "id": "085ecf8a-1b6f-4d17-a85e-37c308141f28",
   "metadata": {},
   "outputs": [
    {
     "name": "stdout",
     "output_type": "stream",
     "text": [
      "['대전일보', 'CJB청주방송', 'kbc광주방송', '강원도민일보', '국제신문', 'JIBS', '경기일보', '전주MBC', '대구MBC', '강원일보']\n"
     ]
    }
   ],
   "source": [
    "import requests\n",
    "from bs4 import BeautifulSoup\n",
    "\n",
    "res = requests.get('https://news.naver.com')\n",
    "soup = BeautifulSoup(res.text, 'lxml')\n",
    "news_list = soup.find_all('div', attrs = {'class':'cjs_age_name'})\n",
    "names = [ i.text  for i in news_list ]\n",
    "print(names[:10])"
   ]
  },
  {
   "cell_type": "markdown",
   "id": "a17cd776-1a12-419e-b785-5817d5e0510b",
   "metadata": {},
   "source": [
    "# [실습] 네이버 웹툰 제목 가져오기"
   ]
  },
  {
   "cell_type": "code",
   "execution_count": null,
   "id": "d16b0387-27df-47ce-8156-bc67b7349867",
   "metadata": {},
   "outputs": [],
   "source": [
    "import requests\n",
    "import time\n",
    "from bs4 import BeautifulSoup\n",
    "from selenium.webdriver.chrome.service import Service\n",
    "from selenium.webdriver import Chrome, ChromeOptions\n",
    "from webdriver_manager.chrome import ChromeDriverManager\n",
    "\n",
    "driver = Chrome(service=Service(ChromeDriverManager().install()), options=ChromeOptions())\n",
    "\n",
    "URL = 'https://comic.naver.com/webtoon'\n",
    "driver.get(URL)\n",
    "time.sleep(4)\n",
    "soup = BeautifulSoup(driver.page_source, 'lxml')\n",
    "\n",
    "temp = soup.select_one('#container > div.component_wrap.type2 > div.WeekdayMainView__daily_all_wrap--UvRFc')\n",
    "temp = temp.find_all('ul', attrs = {'class':'WeekdayMainView__daily_list--R52q0'})\n",
    "week = ['월','화','수','목','금','토','일']\n",
    "\n",
    "for i, w in enumerate(temp):\n",
    "    print(f'-----weak{i}요 웹툰-----')\n",
    "    webtoon_list = w.find_all('li', attrs = {'class':'DailyListItem__item--LP6_T'})\n",
    "    for webtoon in webtoon_list:\n",
    "        print(webtoon.find('span', attrs = {'class':'text'}).text)\n",
    "    print()"
   ]
  },
  {
   "cell_type": "markdown",
   "id": "6e8e991b-698f-472f-80e8-914df1772705",
   "metadata": {},
   "source": [
    "# [실습] 메가박스 영화정보 사이트에서 영화 포스터 다운로드 하기"
   ]
  },
  {
   "cell_type": "code",
   "execution_count": null,
   "id": "ee857611-1eac-4582-bedf-16b465669648",
   "metadata": {},
   "outputs": [],
   "source": [
    "import requests\n",
    "import time\n",
    "from bs4 import BeautifulSoup\n",
    "from selenium.webdriver.chrome.service import Service\n",
    "from selenium.webdriver import Chrome, ChromeOptions\n",
    "from webdriver_manager.chrome import ChromeDriverManager\n",
    "\n",
    "driver = Chrome(service=Service(ChromeDriverManager().install()), options=ChromeOptions())\n",
    "\n",
    "URL = 'https://www.megabox.co.kr/movie'\n",
    "driver.get(URL)\n",
    "\n",
    "soup = BeautifulSoup(driver.page_source, 'lxml')\n",
    "poster_img = soup.select('#movieList > li > div.movie-list-info > img')\n",
    "poster_img_src = poster_img[0].get('src')\n",
    "\n",
    "with open('poster.jpg','wb') as f:\n",
    "    f.write(res.content)\n",
    "print('End')"
   ]
  },
  {
   "cell_type": "markdown",
   "id": "8aedba34-ce94-4be6-89c5-c7943915baec",
   "metadata": {},
   "source": [
    "# [문제] 메가박스 영화 사이트에서 첫 페이지에 있는 모든 영화 포스트 이미지 수집하기\n",
    "- 메가박스 영화 사이트 첫 페이지에 있는 20개의 영화 포스트 이미지 수집\n",
    "- 현재 작업 디렉토리 밑에 'poster_img' 폴더가 없는 경우 폴더를 생성한다. (os 패키지 이용)\n",
    "- 저장되는 각 포스터 이미지의 파일 이름은 영화 제목으로 한다."
   ]
  },
  {
   "cell_type": "code",
   "execution_count": null,
   "id": "4223c69e-bd45-401e-8d8e-adf18880bb81",
   "metadata": {},
   "outputs": [],
   "source": [
    "import requests\n",
    "import time\n",
    "from bs4 import BeautifulSoup\n",
    "from selenium.webdriver.chrome.service import Service\n",
    "from selenium.webdriver import Chrome, ChromeOptions\n",
    "from webdriver_manager.chrome import ChromeDriverManager\n",
    "\n",
    "driver = Chrome(service=Service(ChromeDriverManager().install()), options=ChromeOptions())\n",
    "\n",
    "URL = 'https://www.megabox.co.kr/movie'\n",
    "driver.get(URL)\n",
    "\n",
    "soup = BeautifulSoup(driver.page_source, 'lxml')\n",
    "movies = soup.find_all('img', {'class':'poster lozad'})\n",
    "\n",
    "import os\n",
    "img_dir = './poster_img/'\n",
    "if not os.path.exists(img_dir):\n",
    "    os.mkdir(img_dir)\n",
    "    print('폴더 생성 완료')\n",
    "else:\n",
    "    print('폴더가 존재함')\n",
    "\n",
    "for i, w in enumerate(movies, 1):\n",
    "    title = w.get('alt')\n",
    "    img_url = w.get('src')\n",
    "\n",
    "    print(i, ':', img_url)\n",
    "    img_res = requests.get(img_url)\n",
    "\n",
    "    if ':' in title:\n",
    "        title = title.replace(':','')\n",
    "    with open(img_dir+f'[{i}].{title}.jpg', 'wb') as f:\n",
    "        f.write(img_res.content)"
   ]
  },
  {
   "cell_type": "markdown",
   "id": "9e7d22aa-5bdf-446a-8f48-9953e15028f2",
   "metadata": {},
   "source": [
    "# [실습] 네이버 뉴스 사이트에서 경제 관련 언론사별 랭킹뉴스 추출하기\n",
    "- 언론사 이름에 '경제' 단어가 포함된 언론사의 랭킹 뉴스만 추출하여 출력한다."
   ]
  },
  {
   "cell_type": "code",
   "execution_count": null,
   "id": "c592d6ba-8b9a-4356-8bf4-32ad0bd3d30f",
   "metadata": {},
   "outputs": [],
   "source": [
    "import requests\n",
    "from bs4 import BeautifulSoup\n",
    "\n",
    "URL = 'https://news.naver.com/main/ranking/popularDay.naver'\n",
    "res = requests.get(URL)\n",
    "soup = BeautifulSoup(res.text, 'htmr.parser')\n",
    "\n",
    "news_list = soup.find_all('div', {'class':'rankingnews_box'})\n",
    "print('등록 언론사 개수: ', len(news_list))\n",
    "\n",
    "for news in news_list:\n",
    "    press_title = news.find('strong').text\n",
    "    if '경제' in press_title:\n",
    "        print('언론사', press_title)\n",
    "        press_news = news.find_all('div', attrs = {'class':'list_content'})\n",
    "        for i, ranking_news in enumerate(press_news, 1):\n",
    "            print(f'{i}: {ranking_news.find(\"a\").get_text()}')\n",
    "        print()"
   ]
  },
  {
   "cell_type": "markdown",
   "id": "213027e0-8591-42fa-a002-0af1ba34fb34",
   "metadata": {},
   "source": [
    "# [실습] 네이버 로그인하기"
   ]
  },
  {
   "cell_type": "code",
   "execution_count": null,
   "id": "1d2cdf90-8161-467a-9038-168722075fa5",
   "metadata": {},
   "outputs": [],
   "source": [
    "from selenium.webdriver import Chrome, ChromeOptions\n",
    "from selenium.webdriver.chrome.service import Service\n",
    "from selenium.webdriver.common.by import By\n",
    "from webdriver_manager.chrome import ChromeDriverManager\n",
    "from selenium.webdriver.common.keys import Keys  # 특수키 사용을 위한 클래스\n",
    "\n",
    "driver = Chrome(service=Service(ChromeDriverManager().install()), options=ChromeOptions())\n",
    "\n",
    "driver.get('https://www.naver.com')\n",
    "ele = driver.find_element(by=By.CLASS_NAME, value='MyView-module__link_login___HpHMW')\n",
    "ele.click()\n",
    "my_id = 'trigger1227'\n",
    "my_pw = 'triggeris307651'\n",
    "\n",
    "# 로봇에 의해 클릭되지 못하도록 막았기 때문에 스크립트로 처리해야 함\n",
    "# ele = driver.find_element(by=By.ID, value = 'id')\n",
    "# ele.send_keys(my_id)\n",
    "# ele = driver.find_element(by=By.ID, value = 'pw')\n",
    "# ele.send_keys(my_pw)\n",
    "\n",
    "ele = driver.find_element(by=By.CLASS_NAME, value = 'btn_login')\n",
    "ele.click()"
   ]
  },
  {
   "cell_type": "markdown",
   "id": "be4dc372-834f-4be3-83a6-ba1a243b751e",
   "metadata": {},
   "source": [
    "# [실습과제] yes24에서 파이썬 도서 검색하기\n",
    "- yes24 사이트에서 파이썬 도서 검색 -> 검색 결과를 120개 선택\n",
    "- 검색 결과에서 도서 평점이 9.6 이상인 도서 제목과 가격, 평점 출력"
   ]
  },
  {
   "cell_type": "code",
   "execution_count": null,
   "id": "4efdbd9d-eef5-49dd-982c-bb1dbf7aaa66",
   "metadata": {},
   "outputs": [],
   "source": [
    "from selenium.webdriver import Chrome, ChromeOptions\n",
    "from selenium.webdriver.chrome.service import Service\n",
    "from selenium.webdriver.common.by import By\n",
    "from selenium.webdriver.common.keys import Keys \n",
    "from webdriver_manager.chrome import ChromeDriverManager\n",
    "from selenium.webdriver.support.ui import Select  # select form 제어 클래스\n",
    "import time\n",
    "\n",
    "URL = 'https://www.yes24.com'\n",
    "driver = Chrome(service=Service(ChromeDriverManager().install()),options=ChromeOptions())\n",
    "driver.get(URL)\n",
    "\n",
    "ele = driver.find_element(by=By.ID, value='query')\n",
    "ele.send_keys('파이썬')\n",
    "ele.send_keys(Keys.ENTER)\n",
    "\n",
    "driver.find_element(By.CSS_SELECTOR, '#stat_gb > option[value=\"120\"]').click()"
   ]
  },
  {
   "cell_type": "code",
   "execution_count": null,
   "id": "f2a66646-babb-45a1-9530-53b4c6de47bc",
   "metadata": {},
   "outputs": [],
   "source": [
    "# 데이터 가져오기\n",
    "\n",
    "from bs4 import BeautifulSoup\n",
    "\n",
    "soup = BeautifulSoup(driver.page_source, 'lxml')\n",
    "book_list = soup.find('ul', attrs = {'id':'yesSchList'})\n",
    "books = book_list.find_all('li')\n",
    "count = 0\n",
    "print('검색 도서 권수: ', len(books))\n",
    "for book in books:\n",
    "    rating = book.find('span', attrs = {'class':'rating_grade'})\n",
    "    if not rating: continue  # 평점이 없는 도서일 경우, 이하 내용 실행 skip\n",
    "    rating = float(rating.find('em').get_text())\n",
    "    if rating >= 9.6:\n",
    "        count += 1\n",
    "        title = book.find('a', attrs = {'class':'gd_name'}).get_text()\n",
    "        price = book.find('strong', attrs = {'class':'txt_num'}).get_text()\n",
    "        print(f'{count:03d} | {title} | {price} | {rating}')"
   ]
  },
  {
   "cell_type": "markdown",
   "id": "1372f5d7-06f3-49d9-b5a9-de9e8afd72a5",
   "metadata": {},
   "source": [
    "# 메가박스 영화 감상평 및 평점 수집"
   ]
  },
  {
   "cell_type": "code",
   "execution_count": 5,
   "id": "20c398f0-76ee-4b64-8930-2871c5324ff7",
   "metadata": {},
   "outputs": [],
   "source": [
    "from selenium.webdriver import Chrome, ChromeOptions\n",
    "from selenium.webdriver.chrome.service import Service\n",
    "from selenium.webdriver.common.by import By\n",
    "from selenium.webdriver.common.keys import Keys \n",
    "from webdriver_manager.chrome import ChromeDriverManager\n",
    "from bs4 import BeautifulSoup\n",
    "import time\n",
    "\n",
    "PAUSE_TIME = 3\n",
    "\n",
    "URL = 'https://www.megabox.co.kr/movie'\n",
    "driver = Chrome(service=Service(ChromeDriverManager().install()),options=ChromeOptions())\n",
    "driver.get(URL)\n",
    "\n",
    "movie = driver.find_element(By.CSS_SELECTOR, '#movieList > li:nth-child(4) > div.movie-list-info > div.movie-score > a').send_keys(Keys.ENTER)\n",
    "time.sleep(PAUSE_TIME)\n",
    "driver.find_element(By.LINK_TEXT, '실관람평').click()\n",
    "\n",
    "#movieList > li:nth-child(3) > div.movie-list-info > div.movie-score"
   ]
  },
  {
   "cell_type": "code",
   "execution_count": null,
   "id": "1e282094-1b84-4f75-957c-3d7453efa512",
   "metadata": {},
   "outputs": [],
   "source": [
    "# 페이지 번호 클릭 테스트\n",
    "# 마지막 페이지 이동\n",
    "driver.find_element(By.CSS_SELECTOR, '#contentData > div > div.movie-idv-story > nav > a.control.last').click()\n",
    "time.sleep(PAUSE_TIME)\n",
    "total_page_num = int(driver.find_element(By.CSS_SELECTOR, '#contentData > div > div.movie-idv-story > nav > strong').text)\n",
    "print('전체 페이지 수: ', total_page_num)\n",
    "# 첫 페이지 이동\n",
    "driver.find_element(By.CSS_SELECTOR, '#contentData > div > div.movie-idv-story > nav > a.control.first').click()\n",
    "time.sleep(PAUSE_TIME)\n",
    "\n",
    "ratings = []\n",
    "comments = []\n",
    "\n",
    "THE_LAST_PAGE = 20\n",
    "next_a_tag = 2  # 다음 클릭이 이루어질 a 태그 순서 (첫 페이지는 a 태그 아닌 strong 태그라서, 첫 클릭이 이뤄질 태그 순서는 2부터 시작)\n",
    "\n",
    "for i in range(1, total_page_num+1):\n",
    "    if i > THE_LAST_PAGE: break\n",
    "    print(f'{i}페이지 평점 및 리뷰 정보 수집')\n",
    "    bs = BeautifulSoup(driver.page_source, 'lxml')\n",
    "    result = bs.find_all('li', attrs = {'class':'type01 oneContentTag'})\n",
    "    for c in result:\n",
    "        rating = int(c.find('div', attrs = {'class':'story-point'}).text)\n",
    "        comment = c.find('div', attrs = {'class':'story-txt'}).text.strip()\n",
    "        ratings.append(rating)\n",
    "        comments.append(comment)\n",
    "\n",
    "    if not i%10:  # 10번째 페이지 평점 정보 수집이 끝나면...\n",
    "        driver.find_element(By.CSS_SELECTOR, '#contentData > div > div.movie-idv-story > nav > a.control.next').click()  # 다음 10페이지 보기\n",
    "        time.sleep(PAUSE_TIME)\n",
    "        next_a_tag = 4  # 다음 10페이지에서 그 다음 클릭이 이뤄질 a 태그의 순서는 4가 됨 (다음 클릭할 페이지 링크 앞에 <, <<, 첫페이지가 있기 때문)\n",
    "        continue\n",
    "        \n",
    "    # 다음 페이지 번호 클릭\n",
    "    driver.find_element(By.CSS_SELECTOR, f'#contentData > div > div.movie-idv-story > nav > a:nth-child({next_a_tag})').click()\n",
    "    next_a_tag += 1\n",
    "    time.sleep(PAUSE_TIME)\n",
    "\n",
    "driver.close()"
   ]
  },
  {
   "cell_type": "code",
   "execution_count": null,
   "id": "38432768-aeb1-4e32-91a4-125f09a7adb1",
   "metadata": {},
   "outputs": [],
   "source": [
    "print(f'관람객 평점:{sum(ratings)/len(ratings):.1f}점')\n",
    "\n",
    "import csv\n",
    "import os\n",
    "\n",
    "with open('ratings.csv', 'w') as f:\n",
    "    writer = csv.writer(f)\n",
    "    for rating in ratings:\n",
    "        writer.writerow([rating])   # 행단위로 평점 입력 (행단위 = 리스트 형태 필요)\n",
    "print('평점 저장 완료')\n",
    "\n",
    "with open('comments.txt', 'w', encoding='utf-8') as f:\n",
    "    for comment in comments:\n",
    "        f.write(comment+'\\n')\n",
    "print('감상평 저장 완료')"
   ]
  },
  {
   "cell_type": "markdown",
   "id": "15034896-d0d6-46ea-93d5-b37ab38ced3e",
   "metadata": {},
   "source": [
    "# job 실행 취소하기"
   ]
  },
  {
   "cell_type": "code",
   "execution_count": null,
   "id": "83030a6b-d9de-441e-9d8e-2bc2e3730bac",
   "metadata": {},
   "outputs": [],
   "source": [
    "import schedule\n",
    "import time\n",
    "\n",
    "def message1():\n",
    "    print('매 1초마다 스케줄 1 실행')\n",
    "\n",
    "def message2():\n",
    "    print('매 2초마다 스케줄 2 실행')\n",
    "\n",
    "job1 = schedule.every().second.do(message1)\n",
    "job2 = schedule.every(2).seconds.do(message2)\n",
    "\n",
    "count = 0 \n",
    "while True:\n",
    "    schedule.run_pending()\n",
    "    time.sleep(1)\n",
    "\n",
    "    count += 1\n",
    "    if count > 5:\n",
    "        print(job1)\n",
    "        schedule.cancel_job(job1)"
   ]
  },
  {
   "cell_type": "markdown",
   "id": "057774fc-5007-4f56-988f-d1f69ae30fd5",
   "metadata": {},
   "source": [
    "# 지정된 시간까지 job 실행"
   ]
  },
  {
   "cell_type": "code",
   "execution_count": null,
   "id": "2e4478f5-5d55-472e-b2f3-670797e79a8d",
   "metadata": {},
   "outputs": [],
   "source": [
    "import schedule\n",
    "import time \n",
    "\n",
    "def job():\n",
    "    print(\"I'm working\")\n",
    "    now = time.localtime()\n",
    "    print(f'{now.tm_year}-{now.tm_mon}-{now.tm_mday} {now.tm_hour}:{now.tm_min}:{now.tm_sec}')\n",
    "\n",
    "schedule.every().second.until('14:42:50').do(job)\n",
    "\n",
    "while True:\n",
    "    if not schedule.jobs:\n",
    "        break\n",
    "    schedule.run_pending()\n",
    "    time.sleep(1)"
   ]
  },
  {
   "cell_type": "markdown",
   "id": "6dd510f8-23c0-42e0-8263-193b28661d0b",
   "metadata": {},
   "source": [
    "[실습] 매체별 광고 투자 금액에 따른 상품 판매 효과 비교\n",
    "- 선 그래프로 표현한다.\n",
    "- 광고 매체는 tv와 google_ads 두 가지로 한다.\n",
    "- x 값은(투자 금액) 5~45 사이의 5 간격으로 만들어진 연속된 값 (tv와 google_ads 공동 사용)\n",
    "- 랜덤 seed는 10으로 고정\n",
    "- tv의 y 값은(상품 판매 매출액) 1-64 사이의 랜덤 정수 (오름차순 정렬)\n",
    "- google_ads의 y 값은 1-74 사이의 랜덤 정수 (오름차순 정렬)"
   ]
  },
  {
   "cell_type": "code",
   "execution_count": 4,
   "id": "cce50a62-3b46-4a38-818b-7bb0fa213331",
   "metadata": {},
   "outputs": [],
   "source": [
    "import matplotlib\n",
    "\n",
    "matplotlib.rcParams['font.family'] = 'Malgun Gothic'\n",
    "matplotlib.rcParams['font.size'] = 12\n",
    "matplotlib.rcParams['axes.unicode_minus'] = False #유니코드가 - 기호로 설정되는 폰트가 깨지는 것을 방지"
   ]
  },
  {
   "cell_type": "code",
   "execution_count": null,
   "id": "39531e48-bbb3-46aa-b39d-cd8bc637dc83",
   "metadata": {},
   "outputs": [],
   "source": [
    "import random\n",
    "\n",
    "random.seed(10)\n",
    "x = list(range(5,46,5))\n",
    "y1 = [random.randint(1,64) for i in range(9)]\n",
    "y1.sort()\n",
    "y2 = [random.randint(1,74) for i in range(9)]\n",
    "y2.sort()\n",
    "\n",
    "plt.plot(x, y1, 'bs-', label='TV') \n",
    "plt.plot(x, y2, 'ro-', label='Google_ads')\n",
    "plt.title('광고 매체별 상품 판매 효과 비교')\n",
    "plt.xlabel('광고 투자 금액', labelpad=10)\n",
    "plt.ylabel('매출')\n",
    "plt.legend()\n",
    "plt.show()"
   ]
  }
 ],
 "metadata": {
  "kernelspec": {
   "display_name": "Python 3 (ipykernel)",
   "language": "python",
   "name": "python3"
  },
  "language_info": {
   "codemirror_mode": {
    "name": "ipython",
    "version": 3
   },
   "file_extension": ".py",
   "mimetype": "text/x-python",
   "name": "python",
   "nbconvert_exporter": "python",
   "pygments_lexer": "ipython3",
   "version": "3.11.7"
  }
 },
 "nbformat": 4,
 "nbformat_minor": 5
}
