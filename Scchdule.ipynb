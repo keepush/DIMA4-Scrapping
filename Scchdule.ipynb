{
 "cells": [
  {
   "cell_type": "markdown",
   "id": "5ef5c5d8-0a39-457a-8a54-31c8fa6dd1b9",
   "metadata": {},
   "source": [
    "# Schedule 모듈"
   ]
  },
  {
   "cell_type": "code",
   "execution_count": 1,
   "id": "c5cf7df6-56ff-4d34-9099-c7acd18841bf",
   "metadata": {},
   "outputs": [
    {
     "name": "stdout",
     "output_type": "stream",
     "text": [
      "Collecting schedule\n",
      "  Downloading schedule-1.2.1-py2.py3-none-any.whl.metadata (3.3 kB)\n",
      "Downloading schedule-1.2.1-py2.py3-none-any.whl (11 kB)\n",
      "Installing collected packages: schedule\n",
      "Successfully installed schedule-1.2.1\n"
     ]
    }
   ],
   "source": [
    "!pip install schedule"
   ]
  },
  {
   "cell_type": "markdown",
   "id": "13552643-6f4a-4908-9c19-b49572f9754c",
   "metadata": {},
   "source": [
    "# schedule 모듈 활용\n",
    "- while 반복문을 활용하여 꾸준히 스케줄을 유지\n",
    "- 특정 조건에 맞는 스케줄이 있을 때마다 해당 함수 실행\n",
    "- 스케줄 설정 예시\n",
    "    - schedule.every(20).minutes.do(job) : 매 20분마다 실행\n",
    "    - schedule.every().hour.do(job) : 매 시간마다 실행      # every() = 단수이기 때문에, 시간 변수명도 단수형 사용\n",
    "    - schedule.every().day.at('10:30') : 매일 10시 30분에 실행\n",
    "    - schedule.every().monday.do(job) : 매주 월요일마다 실행\n",
    "    - schedule.every().wednesday.at('13:15').do)(job) : 매주 수요일 13:15에 실행"
   ]
  },
  {
   "cell_type": "code",
   "execution_count": null,
   "id": "31ba5902-4c49-402f-b5bc-a30b72af113b",
   "metadata": {},
   "outputs": [],
   "source": [
    "import schedule\n",
    "import time\n",
    "\n",
    "def job():\n",
    "    now = time.localtime()\n",
    "    print(f'{now.tm_year}-{now.tm_mon}-{now.tm_mday} {now.tm_hour}:{now.tm_min}:{now.tm_sec}')\n",
    "\n",
    "schedule.every(10).seconds.do(job)\n",
    "\n",
    "while True:\n",
    "    schedule.run_pending()"
   ]
  },
  {
   "cell_type": "markdown",
   "id": "12c16ebc-0a8c-42bc-8420-c2064368e93c",
   "metadata": {},
   "source": [
    "# 시간별 스케줄 잡 실행하기"
   ]
  },
  {
   "cell_type": "code",
   "execution_count": null,
   "id": "66af2b19-410b-45bb-8191-e765f196fd83",
   "metadata": {},
   "outputs": [],
   "source": [
    "import schedule\n",
    "import time\n",
    "\n",
    "def job():\n",
    "    print(\"I'm working\")\n",
    "    now = time.localtime()\n",
    "    print(f'{now.tm_year}-{now.tm_mon}-{now.tm_mday} {now.tm_hour}:{now.tm_min}:{now.tm_sec}')\n",
    "\n",
    "# 매 분 23초마다 job 함수 실행\n",
    "#schedule.every().minute.at(':23').do(job)\n",
    "\n",
    "# 매 시 42분마다 job 함수 실행\n",
    "#schedule.every().hour.at(':42').do(job)\n",
    "\n",
    "# 매 5시간째 20분 30초마다 job 함수 실행\n",
    "# 현재 시간이 02:00라면, 첫 실행은 06:20:30에 실행됨 (5시간째가 되는 6시 20분에 실행)\n",
    "# schedule.every(5).hours.at('20:30').do(job)\n",
    "\n",
    "# 매일 지정된 시간에 job 함수 실행\n",
    "# schedule.every().day.at('10:30').do(job)\n",
    "\n",
    "# (주의) 월을 의미하는 month 속성은 없음\n",
    "\n",
    "\n",
    "while True:\n",
    "    schedule.run_pending()"
   ]
  },
  {
   "cell_type": "markdown",
   "id": "8b46c54f-78a6-4aee-aaa2-e6ca581106cd",
   "metadata": {},
   "source": [
    "## 매월 특정일 특정 시간에 job 실행"
   ]
  },
  {
   "cell_type": "code",
   "execution_count": null,
   "id": "4184c459-39d7-4836-b1cb-4628d4f01bf7",
   "metadata": {},
   "outputs": [],
   "source": [
    "from datetime import date\n",
    "\n",
    "# 매월 1일 2시에 작업 실행\n",
    "def job():\n",
    "    if date.today().day != 1:\n",
    "        return\n",
    "    # 실제 job 실행 코드 작성\n",
    "\n",
    "schedule.every().day.at('02:00').do(job)"
   ]
  },
  {
   "cell_type": "markdown",
   "id": "f51c9ca9-072f-4978-b639-b746a4d61d27",
   "metadata": {},
   "source": [
    "# job 함수에 인수 값 전달"
   ]
  },
  {
   "cell_type": "code",
   "execution_count": null,
   "id": "ca57d0c2-5bab-4d9d-8e3b-f9ed42f2134b",
   "metadata": {},
   "outputs": [],
   "source": [
    "import schedule\n",
    "import time\n",
    "\n",
    "def greet(name):\n",
    "    print('Hello', name)\n",
    "    now = time.localtime()\n",
    "    print(f'{now.tm_year}-{now.tm_mon}-{now.tm_mday} {now.tm_hour}:{now.tm_min}:{now.tm_sec}')\n",
    "\n",
    "schedule.every().second.do(greet, name='Alice')\n",
    "\n",
    "while True:\n",
    "    schedule.run_pending()\n",
    "    # sleep(1) 넣지 않아도 결과는 동일\n",
    "    # sleep(1) 넣게 되면 각 반복 사이에 1초의 지연을 도입하여 CPU의 사용량을 줄일 수 있다.\n",
    "    time.sleep(1)"
   ]
  },
  {
   "cell_type": "markdown",
   "id": "dd609978-254e-45f5-a899-b5884c51ffff",
   "metadata": {},
   "source": [
    "# job 실행 취소하기"
   ]
  },
  {
   "cell_type": "code",
   "execution_count": null,
   "id": "e32a31c1-410e-4a94-8fed-76bc094e32b3",
   "metadata": {},
   "outputs": [],
   "source": [
    "import schedule\n",
    "import time\n",
    "\n",
    "def message1():\n",
    "    print('매 1초마다 스케줄 1 실행')\n",
    "\n",
    "def message2():\n",
    "    print('매 2초마다 스케줄 2 실행')\n",
    "\n",
    "job1 = schedule.every().second.do(message1)\n",
    "job2 = schedule.every(2).seconds.do(message2)\n",
    "\n",
    "count = 0 \n",
    "while True:\n",
    "    schedule.run_pending()\n",
    "    time.sleep(1)\n",
    "\n",
    "    count += 1\n",
    "    if count > 5:\n",
    "        print(job1)\n",
    "        schedule.cancel_job(job1)"
   ]
  },
  {
   "cell_type": "markdown",
   "id": "fe848fe9-1cae-41e7-a816-dd1f2e217356",
   "metadata": {},
   "source": [
    "# 지정된 시간까지 job 실행"
   ]
  },
  {
   "cell_type": "code",
   "execution_count": 1,
   "id": "87abf004-0f30-470c-a784-1c68e7960542",
   "metadata": {},
   "outputs": [
    {
     "name": "stdout",
     "output_type": "stream",
     "text": [
      "I'm working\n",
      "2024-4-3 14:42:45\n",
      "I'm working\n",
      "2024-4-3 14:42:46\n",
      "I'm working\n",
      "2024-4-3 14:42:47\n",
      "I'm working\n",
      "2024-4-3 14:42:48\n",
      "I'm working\n",
      "2024-4-3 14:42:49\n"
     ]
    }
   ],
   "source": [
    "import schedule\n",
    "import time \n",
    "\n",
    "def job():\n",
    "    print(\"I'm working\")\n",
    "    now = time.localtime()\n",
    "    print(f'{now.tm_year}-{now.tm_mon}-{now.tm_mday} {now.tm_hour}:{now.tm_min}:{now.tm_sec}')\n",
    "\n",
    "schedule.every().second.until('14:42:50').do(job)\n",
    "\n",
    "while True:\n",
    "    if not schedule.jobs:\n",
    "        break\n",
    "    schedule.run_pending()\n",
    "    time.sleep(1)"
   ]
  }
 ],
 "metadata": {
  "kernelspec": {
   "display_name": "Python 3 (ipykernel)",
   "language": "python",
   "name": "python3"
  },
  "language_info": {
   "codemirror_mode": {
    "name": "ipython",
    "version": 3
   },
   "file_extension": ".py",
   "mimetype": "text/x-python",
   "name": "python",
   "nbconvert_exporter": "python",
   "pygments_lexer": "ipython3",
   "version": "3.11.7"
  }
 },
 "nbformat": 4,
 "nbformat_minor": 5
}
