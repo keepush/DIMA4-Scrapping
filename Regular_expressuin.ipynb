{
 "cells": [
  {
   "cell_type": "markdown",
   "id": "d87e7491-7d6d-458f-8df8-807a751c776c",
   "metadata": {},
   "source": [
    "# 정규식 비사용 vs 사용"
   ]
  },
  {
   "cell_type": "code",
   "execution_count": 1,
   "id": "cdd23cfd-0027-4df3-a0a9-f13c8481e69e",
   "metadata": {},
   "outputs": [],
   "source": [
    "data = \"\"\"\n",
    "park 800904-1234567\n",
    "kim 841204-1234543\n",
    "\"\"\""
   ]
  },
  {
   "cell_type": "code",
   "execution_count": 2,
   "id": "03e1cd77-aed0-4934-bcf8-6adf1cb8da25",
   "metadata": {},
   "outputs": [
    {
     "name": "stdout",
     "output_type": "stream",
     "text": [
      "park 800904-*******\n",
      "kim 841204-*******\n"
     ]
    }
   ],
   "source": [
    "result = []\n",
    "for line in data.split('\\n'):\n",
    "    word_result = []\n",
    "    for word in line.split():\n",
    "        if len(word) == 14 and word[:6].isdigit() and word[7:].isdigit():\n",
    "            word = word[:6] + '-' + '*******'\n",
    "        word_result.append(word)\n",
    "    result.append(' '.join(word_result))\n",
    "print('\\n'.join(result).strip())"
   ]
  },
  {
   "cell_type": "code",
   "execution_count": 3,
   "id": "934cc28b-859c-4d23-aaf7-b5cd43535691",
   "metadata": {},
   "outputs": [
    {
     "name": "stdout",
     "output_type": "stream",
     "text": [
      "park 800904-*******\n",
      "kim 841204-*******\n"
     ]
    }
   ],
   "source": [
    "import re\n",
    "\n",
    "pat = re.compile('(\\d{6})[-]\\d{7}')\n",
    "print(pat.sub(r'\\1-*******', data).strip())"
   ]
  },
  {
   "cell_type": "markdown",
   "id": "2b577351-0df6-48f9-b1c8-34a23ea639aa",
   "metadata": {},
   "source": [
    "# 문자열 검색"
   ]
  },
  {
   "cell_type": "code",
   "execution_count": 4,
   "id": "af57b6ff-8a82-4091-8be1-c254ccc264d9",
   "metadata": {},
   "outputs": [],
   "source": [
    "import re\n",
    "\n",
    "p = re.compile('[a-z]+')  # 알파벳 소문자 1개 이상"
   ]
  },
  {
   "cell_type": "markdown",
   "id": "dbbb25cc-829f-4b86-bc8e-99e517692ba7",
   "metadata": {},
   "source": [
    "## match()\n",
    "- 문자열의 처음부터 정규식과 매치되는지 조사"
   ]
  },
  {
   "cell_type": "code",
   "execution_count": 5,
   "id": "38c62b6d-cf47-46c7-a0ed-e85ac3be2965",
   "metadata": {},
   "outputs": [
    {
     "name": "stdout",
     "output_type": "stream",
     "text": [
      "<re.Match object; span=(0, 6), match='python'>\n",
      "<re.Match object; span=(0, 1), match='p'>\n",
      "None\n",
      "Match found: python\n"
     ]
    }
   ],
   "source": [
    "m1 = p.match('python')\n",
    "print(m1)\n",
    "\n",
    "m2 = p.match('pYthon')\n",
    "print(m2)\n",
    "\n",
    "m3 = p.match('3 python')\n",
    "print(m3)\n",
    "\n",
    "if m1:                       # 일치되는 게 있다면\n",
    "    print('Match found:', m1.group())   # group(): 매치된 문자열 반환\n",
    "else:\n",
    "    print('Not Match')"
   ]
  },
  {
   "cell_type": "markdown",
   "id": "340eff59-a459-465e-9356-b1a77005d8e6",
   "metadata": {},
   "source": [
    "## search()\n",
    "- 문자열 전체를 검색하여 처음으로 매치되는 문자열을 찾는다."
   ]
  },
  {
   "cell_type": "code",
   "execution_count": 6,
   "id": "a9b0bf9b-b66a-4ed0-ba71-8da3896f8c89",
   "metadata": {},
   "outputs": [
    {
     "name": "stdout",
     "output_type": "stream",
     "text": [
      "<re.Match object; span=(2, 8), match='python'>\n"
     ]
    }
   ],
   "source": [
    "m = p.search('3 python')\n",
    "print(m)"
   ]
  },
  {
   "cell_type": "markdown",
   "id": "dcbd2630-e11f-4372-b256-da44272b49e4",
   "metadata": {},
   "source": [
    "[문제] 전화번호 추출하기\n",
    "다음의 전화번호 데이터에서 전화번호만 추출하는 정규표현식을 작성하세요."
   ]
  },
  {
   "cell_type": "code",
   "execution_count": 7,
   "id": "29d81065-1d93-43b2-9f28-93d48516cecb",
   "metadata": {},
   "outputs": [
    {
     "name": "stdout",
     "output_type": "stream",
     "text": [
      "010-1234-5555\n",
      "02-555-3333\n"
     ]
    }
   ],
   "source": [
    "phone = ['홍길동:010-1234-5555', '우리집, 02-555-3333']\n",
    "\n",
    "pat = re.compile('\\d{2,3}-\\d{3,4}-\\d{4}')  #  '[0-9]{2,3}......'\n",
    "for p in phone:\n",
    "    m = pat.search(p)\n",
    "    print(m.group())"
   ]
  },
  {
   "cell_type": "markdown",
   "id": "16ae7645-3061-4d97-bcfb-4e3f52f60650",
   "metadata": {},
   "source": [
    "## findall()\n",
    "- 정규식과 매치되는 모든 문자열을 찾아 리스트로 반환한다."
   ]
  },
  {
   "cell_type": "code",
   "execution_count": 18,
   "id": "2cd686c2-ee6a-47ee-a941-6de34e3f27b3",
   "metadata": {},
   "outputs": [
    {
     "name": "stdout",
     "output_type": "stream",
     "text": [
      "['life', 'is', 'too', 'short']\n"
     ]
    }
   ],
   "source": [
    "result = re.findall('[a-z]+', 'life is too short')\n",
    "print(result)"
   ]
  },
  {
   "cell_type": "markdown",
   "id": "dfa466d3-2afa-4099-852d-6034d5e1a6e7",
   "metadata": {},
   "source": [
    "# Match 객체 함수"
   ]
  },
  {
   "cell_type": "code",
   "execution_count": 8,
   "id": "cd1538de-2d46-4c6b-a293-6122aee9ff6e",
   "metadata": {},
   "outputs": [
    {
     "name": "stdout",
     "output_type": "stream",
     "text": [
      "python\n",
      "0\n",
      "6\n",
      "(0, 6)\n"
     ]
    }
   ],
   "source": [
    "import re\n",
    "\n",
    "p = re.compile('[a-z]+')\n",
    "m = p.search('python')\n",
    "\n",
    "print(m.group())\n",
    "print(m.start())\n",
    "print(m.end())\n",
    "print(m.span())"
   ]
  },
  {
   "cell_type": "markdown",
   "id": "51893e5b-2582-426b-882a-74ba2c4535ec",
   "metadata": {},
   "source": [
    "# 컴파일 옵션"
   ]
  },
  {
   "cell_type": "markdown",
   "id": "a34fac9f-3bdc-4149-8927-0c1b3ca31f35",
   "metadata": {},
   "source": [
    "## DOTALL\n",
    "- dot(.) 메타 문자가 줄바꿈 문자(\\n)를 포함하여 모든 문자와 일치한다."
   ]
  },
  {
   "cell_type": "code",
   "execution_count": 9,
   "id": "3d80d19f-2f9d-4bbd-82e5-65601b609983",
   "metadata": {},
   "outputs": [
    {
     "name": "stdout",
     "output_type": "stream",
     "text": [
      "None\n",
      "<re.Match object; span=(0, 3), match='a\\nb'>\n"
     ]
    }
   ],
   "source": [
    "m = re.match('a.b', 'a\\nb')\n",
    "print(m)\n",
    "\n",
    "p = re.compile('a.b', re.DOTALL)\n",
    "m = p.match('a\\nb')\n",
    "print(m)"
   ]
  },
  {
   "cell_type": "code",
   "execution_count": 24,
   "id": "07e6c729-77ce-4ab1-aaa8-c8bae3e44483",
   "metadata": {},
   "outputs": [
    {
     "name": "stdout",
     "output_type": "stream",
     "text": [
      "<re.Match object; span=(0, 12), match='hello\\npython'>\n"
     ]
    }
   ],
   "source": [
    "s = '''hello\n",
    "python'''\n",
    "p = re.compile('hello.python', re.DOTALL)\n",
    "print(p.match(s))"
   ]
  },
  {
   "cell_type": "markdown",
   "id": "f5a07136-c307-4995-92ac-0b930f81c9c1",
   "metadata": {},
   "source": [
    "## IGNORECASE\n",
    "- 대소문자에 관계없이 일치한다."
   ]
  },
  {
   "cell_type": "code",
   "execution_count": 10,
   "id": "61578eab-9d89-4c37-acd6-4077705f0e5c",
   "metadata": {},
   "outputs": [
    {
     "name": "stdout",
     "output_type": "stream",
     "text": [
      "<re.Match object; span=(0, 6), match='python'>\n",
      "<re.Match object; span=(0, 6), match='PYTHON'>\n"
     ]
    }
   ],
   "source": [
    "p = re.compile('[a-z]+', re.IGNORECASE)\n",
    "print(p.match('python'))\n",
    "print(p.match('PYTHON'))"
   ]
  },
  {
   "cell_type": "markdown",
   "id": "b8872d2d-c49a-4c94-9bd0-e404b3afcd9c",
   "metadata": {},
   "source": [
    "## MULTILINE\n",
    "- 여러 줄의 문자열에 대해 ^, $ 메타 문자를 적용할 수 있다."
   ]
  },
  {
   "cell_type": "code",
   "execution_count": 26,
   "id": "6616047d-8578-41d6-8f15-6163a212366c",
   "metadata": {},
   "outputs": [
    {
     "name": "stdout",
     "output_type": "stream",
     "text": [
      "['python one']\n"
     ]
    }
   ],
   "source": [
    "p = re.compile('^python\\s\\w+')    # python으로 시작 + 공백 1개 + 숫자/문자 1개 이상 일치 시 반환\n",
    "text = '''python one\n",
    "life is too short\n",
    "python two\n",
    "you need python\n",
    "python three'''\n",
    "m = p.findall(text)\n",
    "print(m)"
   ]
  },
  {
   "cell_type": "code",
   "execution_count": 29,
   "id": "36b72300-e22b-4227-a628-a263e59f3bb0",
   "metadata": {},
   "outputs": [
    {
     "name": "stdout",
     "output_type": "stream",
     "text": [
      "['python one', 'python two', 'python three']\n"
     ]
    }
   ],
   "source": [
    "# MULTILINE은 ^, $ 메타 문자를 문자열의 각 줄마다 적용한다.\n",
    "p = re.compile('^python\\s\\w+', re.MULTILINE)\n",
    "text = '''python one\n",
    "life is too short\n",
    "python two\n",
    "you need python\n",
    "python three'''\n",
    "m = p.findall(text)\n",
    "print(m)"
   ]
  },
  {
   "cell_type": "markdown",
   "id": "327862c9-820d-4f87-a4b7-3104286bc607",
   "metadata": {},
   "source": [
    "# 백슬래시 문제"
   ]
  },
  {
   "cell_type": "code",
   "execution_count": 11,
   "id": "18fd1d82-7619-4d1b-b514-058bc726093a",
   "metadata": {},
   "outputs": [
    {
     "name": "stdout",
     "output_type": "stream",
     "text": [
      "None\n",
      "<re.Match object; span=(8, 16), match='\\\\section'>\n"
     ]
    }
   ],
   "source": [
    "import re\n",
    "p = re.compile('\\\\section')  # \\section 으로 해석된 문자열이 전달되어 [\\t\\n\\r\\f\\v]ection과 같은 의미로 해석\n",
    "m = p.search('what is \\section and example?')\n",
    "print(m)\n",
    "\n",
    "p = re.compile(r'\\\\section') \n",
    "m = p.search('what is \\section and example?')\n",
    "print(m)"
   ]
  },
  {
   "cell_type": "markdown",
   "id": "cdd8672a-81c8-4079-888d-7e71e97f7470",
   "metadata": {},
   "source": [
    "# 메타문자"
   ]
  },
  {
   "cell_type": "markdown",
   "id": "1009eb5f-6315-427d-8bf4-5beb389d052f",
   "metadata": {},
   "source": [
    "## | \n",
    "- or의 의미"
   ]
  },
  {
   "cell_type": "code",
   "execution_count": 32,
   "id": "1378b46a-ec92-4680-8978-82ae8e5e5b3d",
   "metadata": {},
   "outputs": [
    {
     "name": "stdout",
     "output_type": "stream",
     "text": [
      "<re.Match object; span=(0, 5), match='Servo'>\n"
     ]
    }
   ],
   "source": [
    "import re\n",
    "\n",
    "p = re.compile('Crow|Servo')\n",
    "m = p.match('ServoHello')\n",
    "print(m)"
   ]
  },
  {
   "cell_type": "markdown",
   "id": "51c74f88-4463-4403-a9b3-075df950541d",
   "metadata": {},
   "source": [
    "## \\A\n",
    "- 문자열의 처음과 일치함을 의미\n",
    "- MULTILINE 옵션 안 먹힘"
   ]
  },
  {
   "cell_type": "code",
   "execution_count": 12,
   "id": "59716945-4ed8-4926-abdb-4e43a6d6d4f6",
   "metadata": {},
   "outputs": [
    {
     "name": "stdout",
     "output_type": "stream",
     "text": [
      "['python']\n"
     ]
    }
   ],
   "source": [
    "p = re.compile('\\Apython')\n",
    "text = '''python one\n",
    "life is too short\n",
    "python two\n",
    "you need python\n",
    "python three'''\n",
    "m = p.findall(text)\n",
    "print(m)"
   ]
  },
  {
   "cell_type": "markdown",
   "id": "bac34b07-8c7a-4736-9a41-9bf48f4e142b",
   "metadata": {},
   "source": [
    "## \\b\n",
    "- 단어 경계를 나타낸다.\n",
    "- 공백으로 구분된 단어를 찾는다.\n",
    "- <->  \\s는 공백을 포함하는지를 검사\n",
    "- raw string 문자(r)를 붙여 줘야 함"
   ]
  },
  {
   "cell_type": "code",
   "execution_count": 39,
   "id": "4990e9b0-fce3-4ba7-929b-71df28ee673f",
   "metadata": {},
   "outputs": [
    {
     "name": "stdout",
     "output_type": "stream",
     "text": [
      "<re.Match object; span=(3, 8), match='class'>\n",
      "<re.Match object; span=(0, 5), match='class'>\n"
     ]
    }
   ],
   "source": [
    "p = re.compile(r'\\bclass\\b')  # 공백을 포함하지 않고 매치 결과 반환\n",
    "# p = re.compile(r'\\sclass\\s')   # class 단어 앞뒤에 공백이 있으면 매치, 공백 포함해서 매치 결과 반환\n",
    "print(p.search('no class at all'))\n",
    "print(p.search('class at all'))"
   ]
  },
  {
   "cell_type": "code",
   "execution_count": 41,
   "id": "b06b3c78-01eb-4c44-ae68-19d336e07b94",
   "metadata": {},
   "outputs": [
    {
     "name": "stdout",
     "output_type": "stream",
     "text": [
      "<re.Match object; span=(9, 12), match='dog'>\n"
     ]
    }
   ],
   "source": [
    "# dog라는 독립된 단어를 찾는다.\n",
    "# \\b는 단어문자와 비단어 문자 사이의 경계를 의미\n",
    "m = re.search(r'\\bdog\\b', 'I have a dog.')\n",
    "print(m)"
   ]
  },
  {
   "cell_type": "code",
   "execution_count": 42,
   "id": "2a1c15a3-6692-480f-a185-558c1594f357",
   "metadata": {},
   "outputs": [
    {
     "name": "stdout",
     "output_type": "stream",
     "text": [
      "<re.Match object; span=(6, 8), match='단어'>\n"
     ]
    }
   ],
   "source": [
    "p = re.compile(r'\\b단어\\b')\n",
    "print(p.search('한글에서 \"단어\"문자 찾기'))"
   ]
  },
  {
   "cell_type": "markdown",
   "id": "da943018-82ed-4d6d-aa07-a9ed3f451db9",
   "metadata": {},
   "source": [
    "## \\\n",
    "- 정규 표현식에서 사용하는 문자 그대로 표현하려면 앞에 \\를 붙임\n",
    "- 즉, 문자열 안에 포함된 메타 문자(.?$ 등)을 원래 문자로 사용"
   ]
  },
  {
   "cell_type": "code",
   "execution_count": 43,
   "id": "af9e152e-2285-4f9c-b66c-d40d45a3aafd",
   "metadata": {},
   "outputs": [
    {
     "name": "stdout",
     "output_type": "stream",
     "text": [
      "<re.Match object; span=(5, 11), match='안녕하세요?'>\n"
     ]
    }
   ],
   "source": [
    "m = re.search('안녕하세요\\?', '여러분, 안녕하세요?')\n",
    "print(m)"
   ]
  },
  {
   "cell_type": "markdown",
   "id": "1e536d66-4dbe-479c-a3b4-cede7b05b316",
   "metadata": {},
   "source": [
    "# 그룹핑"
   ]
  },
  {
   "cell_type": "code",
   "execution_count": 47,
   "id": "814c32aa-c8c6-4925-89f3-861ab5b49e62",
   "metadata": {},
   "outputs": [
    {
     "name": "stdout",
     "output_type": "stream",
     "text": [
      "<re.Match object; span=(0, 12), match='ABCABCABCABC'>\n",
      "ABCABCABCABC\n",
      "ABC\n"
     ]
    }
   ],
   "source": [
    "import re\n",
    "\n",
    "p = re.compile('(ABC)+')\n",
    "m = p.search('ABCABCABCABC OK?')\n",
    "print(m)\n",
    "print(m.group(0))  # 일치된 전체 문자열 or m.group()과 동일\n",
    "print(m.group(1))  # 첫 번째 그룹에 해당하는 문자열"
   ]
  },
  {
   "cell_type": "code",
   "execution_count": 50,
   "id": "7f55f416-c039-4434-a3c4-8b6535b8b2fe",
   "metadata": {},
   "outputs": [
    {
     "name": "stdout",
     "output_type": "stream",
     "text": [
      "park 010-1234-5678\n",
      "park\n",
      "010-1234-5678\n"
     ]
    }
   ],
   "source": [
    "p = re.compile('(\\w+)\\s+(\\d+[-]\\d+[-]\\d+)')\n",
    "m = p.search('park 010-1234-5678')\n",
    "print(m.group(0))\n",
    "print(m.group(1))\n",
    "print(m.group(2))"
   ]
  },
  {
   "cell_type": "markdown",
   "id": "31019f84-0ad0-4037-bae8-15e52cc46e9c",
   "metadata": {},
   "source": [
    "- '\\번호'를 이용한 그룹 재창조"
   ]
  },
  {
   "cell_type": "code",
   "execution_count": 1,
   "id": "a115b53a-ab57-4ba9-a804-a137bcb84778",
   "metadata": {},
   "outputs": [
    {
     "data": {
      "text/plain": [
       "<re.Match object; span=(0, 4), match='abab'>"
      ]
     },
     "execution_count": 1,
     "metadata": {},
     "output_type": "execute_result"
    }
   ],
   "source": [
    "import re\n",
    "re.match(r'(a)(b)\\1\\2', 'abab')"
   ]
  },
  {
   "cell_type": "markdown",
   "id": "b39e192b-7079-4a54-9198-13ced75b0fa2",
   "metadata": {},
   "source": [
    "- 동일한 단어가 연속적으로 사용된 문자열 찾기"
   ]
  },
  {
   "cell_type": "code",
   "execution_count": 2,
   "id": "37acb5f6-ae6f-45d2-adca-4ec33b95a0c2",
   "metadata": {},
   "outputs": [
    {
     "data": {
      "text/plain": [
       "'dog dog'"
      ]
     },
     "execution_count": 2,
     "metadata": {},
     "output_type": "execute_result"
    }
   ],
   "source": [
    "# \\b(\\w+)\\b : 단어 경계를 기준으로 한 단어를 찾는다.\n",
    "# \\s+ : 하나 이상의 공백 문자를 찾는다.\n",
    "# \\b\\1\\b : 단어 경계를 기준으로 한 단어를 찾으며, 그룹 참조를 통해 이전에 그룹화된 단어와 동일한 단어를 찾는다.\n",
    "p = re.compile(r'\\b(\\w+)\\b\\s\\b\\1\\b')\n",
    "p.search('I have a dog dog in my house').group()"
   ]
  },
  {
   "cell_type": "code",
   "execution_count": 4,
   "id": "855c4fbf-ab2e-423e-a0a3-caa39db1a48a",
   "metadata": {},
   "outputs": [
    {
     "name": "stdout",
     "output_type": "stream",
     "text": [
      "park\n"
     ]
    }
   ],
   "source": [
    "# 그룹에 이름 붙이기: (?P<그룹이름>)\n",
    "p = re.compile('(?P<name>\\w+)\\s+(\\d+[-]\\d+[-]\\d+)')\n",
    "m = p.search('park 010-1234-5678')\n",
    "print(m.group('name'))"
   ]
  },
  {
   "cell_type": "markdown",
   "id": "08674410-4111-4141-9c2d-16d6fd70c945",
   "metadata": {},
   "source": [
    "# 전방탐색/후방탐색"
   ]
  },
  {
   "cell_type": "markdown",
   "id": "590a4ddc-85e0-4dde-8d8b-09bc94dbfc96",
   "metadata": {},
   "source": [
    "## 긍정 전방 탐색"
   ]
  },
  {
   "cell_type": "code",
   "execution_count": 8,
   "id": "29fd6001-b5bb-4582-8e0b-7ac639897d95",
   "metadata": {},
   "outputs": [
    {
     "name": "stdout",
     "output_type": "stream",
     "text": [
      "http\n"
     ]
    }
   ],
   "source": [
    "import re\n",
    "\n",
    "# 어떤 문자든 하나 이상 반복되고 그 다음에 ':'문자가 나오면 일치됨\n",
    "# : 이 문자는 매치 결과로 반환하지 않는다. \n",
    "# URL에서 프로토콜 이름만 검색\n",
    "# p = re.compile('.+:')\n",
    "p = re.compile('.+(?=:)')      # .(dot): 모든 문자와 일치됨\n",
    "m = p.search('http://www.google.com')\n",
    "print(m.group())"
   ]
  },
  {
   "cell_type": "markdown",
   "id": "6ad5540e-15a7-476e-9bf0-a2319abf1ac5",
   "metadata": {},
   "source": [
    "## 부정 전방 탐색"
   ]
  },
  {
   "cell_type": "code",
   "execution_count": 9,
   "id": "63d61a34-7473-482e-b740-254d4d31f6eb",
   "metadata": {},
   "outputs": [
    {
     "name": "stdout",
     "output_type": "stream",
     "text": [
      "python.exe\n",
      "sysinfo.cf\n"
     ]
    }
   ],
   "source": [
    "# 파일 이름의 확장자 중 bat 파일만 제외하고 추출하기\n",
    "file_names = ['autoexe.bat', 'python.exe', 'sysinfo.cf']\n",
    "p = re.compile('[a-zA-Z]+\\w*[.](?!bat)[a-zA-z]+')\n",
    "for file_name in file_names:\n",
    "    m = p.search(file_name)\n",
    "    if m:\n",
    "        print(m.group())"
   ]
  },
  {
   "cell_type": "markdown",
   "id": "5387b727-9a9a-4eec-926a-5106ed4110f9",
   "metadata": {},
   "source": [
    "## 후방 긍정 탐색"
   ]
  },
  {
   "cell_type": "code",
   "execution_count": 12,
   "id": "c9704cf0-37ed-43d0-b718-06a4e6838863",
   "metadata": {},
   "outputs": [
    {
     "name": "stdout",
     "output_type": "stream",
     "text": [
      "23.45\n"
     ]
    }
   ],
   "source": [
    "# $는 문자열의 끝과 일치함을 나타내는 매타 문자여서 $ 문자로 인식도기ㅣ위해 앞에 \\ 붙여줌\n",
    "p = re.compile('(?<=\\$)[0-9]+[.][0-9]+')\n",
    "m = p.search('ABC01: $23.45')\n",
    "print(m.group())"
   ]
  },
  {
   "cell_type": "markdown",
   "id": "45fb368f-3b96-4680-8050-83ad7c3a1b25",
   "metadata": {},
   "source": [
    "# 문자열 바꾸기"
   ]
  },
  {
   "cell_type": "code",
   "execution_count": 14,
   "id": "832fd3df-799a-4bdd-a2a2-c49d52f2fe3d",
   "metadata": {},
   "outputs": [
    {
     "data": {
      "text/plain": [
       "'color socks and color shoes'"
      ]
     },
     "execution_count": 14,
     "metadata": {},
     "output_type": "execute_result"
    }
   ],
   "source": [
    "p = re.compile('blue|white|red')\n",
    "p.sub('color', 'blue socks and red shoes') #, count=1)"
   ]
  },
  {
   "cell_type": "markdown",
   "id": "a786857b-072e-476b-a11b-a1c220d2a77a",
   "metadata": {},
   "source": [
    "[실습] 이메일 형식 검증"
   ]
  },
  {
   "cell_type": "code",
   "execution_count": 33,
   "id": "97ab74c4-ac33-49c9-9ac9-1540f2b0a2a7",
   "metadata": {},
   "outputs": [
    {
     "name": "stdout",
     "output_type": "stream",
     "text": [
      "mysite.com : invalid email\n",
      "mike@korea.co.kr : valid email\n",
      "mike@naver.com : valid email\n",
      "mike.lee@google.com : valid email\n"
     ]
    }
   ],
   "source": [
    "import re\n",
    "# hyunsoo.ji@google.co.kr\n",
    "def valid_email(email):\n",
    "    regex = '[a-zA-Z]+\\w*[.]?\\w+[@]\\w+[.]\\w+[.]?\\w{2,3}'\n",
    "    valid = re.search(regex, email)\n",
    "\n",
    "    if valid:\n",
    "        print('valid email')\n",
    "    else:\n",
    "        print('invalid email')\n",
    "\n",
    "email = 'mysite.com'\n",
    "print(email, end=' : ')\n",
    "valid_email(email)\n",
    "\n",
    "email = 'mike@korea.co.kr'\n",
    "print(email, end=' : ')\n",
    "valid_email(email)\n",
    "\n",
    "email = 'mike@naver.com'\n",
    "print(email, end=' : ')\n",
    "valid_email(email)\n",
    "\n",
    "email = 'mike.lee@google.com'\n",
    "print(email, end=' : ')\n",
    "valid_email(email)"
   ]
  },
  {
   "cell_type": "markdown",
   "id": "6ffff509-dca2-4c46-83b0-20224c616d3e",
   "metadata": {},
   "source": [
    "[실습] 한글 찾기 / 한글 제거"
   ]
  },
  {
   "cell_type": "code",
   "execution_count": 25,
   "id": "337ee4e1-e210-466e-b8e0-9ea4d0f3e51e",
   "metadata": {},
   "outputs": [
    {
     "name": "stdout",
     "output_type": "stream",
     "text": [
      "['good', 'morning']\n"
     ]
    }
   ],
   "source": [
    "s = '한글이에요. good morning. 안녕하세요'\n",
    "# m = re.findall('[ㄱ-힣]+', s)\n",
    "m = re.findall('[a-zA-Z]+', s)\n",
    "print(m)"
   ]
  },
  {
   "cell_type": "markdown",
   "id": "817102a0-24ea-431b-bf39-d291dfdaab8d",
   "metadata": {},
   "source": [
    "[문제] 입력받은 주민번호의 유효성 검증하기\n",
    "- 키보드로 입력받은 주민번호의 유효성을 검증하여 그 결과를 출력한다.\n",
    "- 931231-1234567"
   ]
  },
  {
   "cell_type": "code",
   "execution_count": 42,
   "id": "511b9483-76ca-4170-a1fe-31ef46251abf",
   "metadata": {},
   "outputs": [
    {
     "name": "stdin",
     "output_type": "stream",
     "text": [
      "주민번호 입력: 931214-5123469\n"
     ]
    },
    {
     "name": "stdout",
     "output_type": "stream",
     "text": [
      "유효하지 않은 주민번호 형식입니다.\n"
     ]
    }
   ],
   "source": [
    "import re\n",
    "\n",
    "jumin = input('주민번호 입력:')\n",
    "# p = re.compile('\\d{6}-\\d{7}(?!\\d+)')\n",
    "p = re.compile('\\d{2}(0[1-9]|1[0-2])(0[1-9]|1[0-9]|2[0-9]|3[0-1])-[1-4]\\d{6}')\n",
    "m = p.search(jumin)\n",
    "\n",
    "if m:\n",
    "    print('유효한 주민번호 형식입니다.')\n",
    "else:\n",
    "    print('유효하지 않은 주민번호 형식입니다.')"
   ]
  }
 ],
 "metadata": {
  "kernelspec": {
   "display_name": "Python 3 (ipykernel)",
   "language": "python",
   "name": "python3"
  },
  "language_info": {
   "codemirror_mode": {
    "name": "ipython",
    "version": 3
   },
   "file_extension": ".py",
   "mimetype": "text/x-python",
   "name": "python",
   "nbconvert_exporter": "python",
   "pygments_lexer": "ipython3",
   "version": "3.11.7"
  }
 },
 "nbformat": 4,
 "nbformat_minor": 5
}
